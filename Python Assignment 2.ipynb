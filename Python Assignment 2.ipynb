{
 "cells": [
  {
   "cell_type": "markdown",
   "id": "a4016d78",
   "metadata": {},
   "source": [
    "1. Create the below pattern using nested for loop in Python.\n",
    "@\n",
    "@@\n",
    "@@@\n",
    "@@@@\n",
    "@@@@@\n",
    "@@@@\n",
    "@@@\n",
    "@@\n",
    "@"
   ]
  },
  {
   "cell_type": "code",
   "execution_count": 5,
   "id": "9b004076",
   "metadata": {},
   "outputs": [
    {
     "name": "stdout",
     "output_type": "stream",
     "text": [
      "\n",
      "\n",
      "*\n",
      "\n",
      "**\n",
      "\n",
      "***\n",
      "\n",
      "****\n",
      "\n",
      "*****\n",
      "\n",
      "****\n",
      "\n",
      "***\n",
      "\n",
      "**\n",
      "\n",
      "*\n",
      "\n"
     ]
    }
   ],
   "source": [
    "for i in range(5):\n",
    "    for j in range(i):\n",
    "        print(\"*\", end = \"\")\n",
    "    print(\"\\n\")\n",
    "\n",
    "for i in range(5,0,-1):\n",
    "    for j in range(i):\n",
    "        print(\"*\", end = \"\")\n",
    "    print(\"\\n\")"
   ]
  },
  {
   "cell_type": "markdown",
   "id": "5ab05cf3",
   "metadata": {},
   "source": [
    "2. Write a Python program to reverse a word after accepting the input from the user."
   ]
  },
  {
   "cell_type": "code",
   "execution_count": null,
   "id": "22a546e8",
   "metadata": {},
   "outputs": [],
   "source": [
    "word = input()"
   ]
  }
 ],
 "metadata": {
  "kernelspec": {
   "display_name": "Python 3",
   "language": "python",
   "name": "python3"
  },
  "language_info": {
   "codemirror_mode": {
    "name": "ipython",
    "version": 3
   },
   "file_extension": ".py",
   "mimetype": "text/x-python",
   "name": "python",
   "nbconvert_exporter": "python",
   "pygments_lexer": "ipython3",
   "version": "3.8.8"
  }
 },
 "nbformat": 4,
 "nbformat_minor": 5
}
